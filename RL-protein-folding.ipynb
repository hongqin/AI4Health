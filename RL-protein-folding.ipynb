{
  "nbformat": 4,
  "nbformat_minor": 0,
  "metadata": {
    "colab": {
      "provenance": [],
      "gpuType": "T4",
      "authorship_tag": "ABX9TyOoUJlphGhuE8ezlQ5ksoMN",
      "include_colab_link": true
    },
    "kernelspec": {
      "name": "python3",
      "display_name": "Python 3"
    },
    "language_info": {
      "name": "python"
    },
    "accelerator": "GPU"
  },
  "cells": [
    {
      "cell_type": "markdown",
      "metadata": {
        "id": "view-in-github",
        "colab_type": "text"
      },
      "source": [
        "<a href=\"https://colab.research.google.com/github/hongqin/AI4Health/blob/main/RL-protein-folding.ipynb\" target=\"_parent\"><img src=\"https://colab.research.google.com/assets/colab-badge.svg\" alt=\"Open In Colab\"/></a>"
      ]
    },
    {
      "cell_type": "code",
      "source": [],
      "metadata": {
        "id": "JNUDYAOYpCll"
      },
      "execution_count": null,
      "outputs": []
    },
    {
      "cell_type": "markdown",
      "source": [
        "https://chatgpt.com/share/67a171cb-cc18-800c-a95f-a6077b3a9ebe"
      ],
      "metadata": {
        "id": "5WHBHZqWpKPo"
      }
    },
    {
      "cell_type": "code",
      "source": [
        "# Import necessary libraries\n",
        "import numpy as np  # For numerical computations\n",
        "import random  # For random action selection in early training\n",
        "import gym  # For environment creation\n",
        "from gym import spaces  # For defining action and observation spaces\n",
        "import tensorflow as tf  # For building and training neural networks\n",
        "from tensorflow.keras import Sequential, Input  # For defining a neural network model\n",
        "from tensorflow.keras.layers import Dense, Flatten  # Dense & Flatten layers for deep learning model\n",
        "from collections import deque  # For experience replay memory\n",
        "import matplotlib.pyplot as plt  # For visualization\n",
        "\n",
        "# ========================\n",
        "# 1. Custom Environment: Protein Folding Simulation\n",
        "# ========================\n",
        "class ProteinFoldingEnv(gym.Env):\n",
        "    \"\"\"A simplified 2D grid environment for simulating protein folding.\"\"\"\n",
        "\n",
        "    def __init__(self, size=5):\n",
        "        super(ProteinFoldingEnv, self).__init__()\n",
        "\n",
        "        # Define the grid size (5x5 by default)\n",
        "        self.size = size\n",
        "\n",
        "        # Initialize a 2D grid to track the folding path\n",
        "        self.grid = np.zeros((size, size))\n",
        "\n",
        "        # Start position is at the center of the grid\n",
        "        self.position = (size // 2, size // 2)\n",
        "\n",
        "        # List to store the sequence of folding moves\n",
        "        self.path = [self.position]\n",
        "\n",
        "        # Define action space (4 possible movements: Up, Down, Left, Right)\n",
        "        self.action_space = spaces.Discrete(4)\n",
        "\n",
        "        # Define observation space as a 2D grid with binary values (0: empty, 1: occupied)\n",
        "        self.observation_space = spaces.Box(low=0, high=1, shape=(size, size), dtype=np.float32)\n",
        "\n",
        "    def reset(self):\n",
        "        \"\"\"Resets the environment to the initial state.\"\"\"\n",
        "        self.grid = np.zeros((self.size, self.size))  # Clear grid\n",
        "        self.position = (self.size // 2, self.size // 2)  # Reset position\n",
        "        self.path = [self.position]  # Reset path\n",
        "        return self._get_state()\n",
        "\n",
        "    def step(self, action):\n",
        "        \"\"\"Executes the given action and updates the environment.\"\"\"\n",
        "        x, y = self.position  # Get current position\n",
        "\n",
        "        # Determine the new position based on the selected action\n",
        "        if action == 0:  # Up\n",
        "            new_pos = (x - 1, y)\n",
        "        elif action == 1:  # Down\n",
        "            new_pos = (x + 1, y)\n",
        "        elif action == 2:  # Left\n",
        "            new_pos = (x, y - 1)\n",
        "        elif action == 3:  # Right\n",
        "            new_pos = (x, y + 1)\n",
        "\n",
        "        # Check if the new position is within grid boundaries\n",
        "        if 0 <= new_pos[0] < self.size and 0 <= new_pos[1] < self.size:\n",
        "            self.position = new_pos  # Update position\n",
        "            self.path.append(new_pos)  # Store movement history\n",
        "            reward = -self._compute_energy()  # Reward is negative energy (lower is better)\n",
        "        else:\n",
        "            reward = -10  # Large penalty for moving out of bounds\n",
        "\n",
        "        # Episode ends when the sequence reaches the maximum allowed length\n",
        "        done = len(self.path) >= self.size\n",
        "        return self._get_state(), reward, done, {}\n",
        "\n",
        "    def _compute_energy(self):\n",
        "        \"\"\"Computes a simplified energy function based on path length.\"\"\"\n",
        "        return sum(np.linalg.norm(np.array(self.path[i]) - np.array(self.path[i - 1])) for i in range(1, len(self.path)))\n",
        "\n",
        "    def _get_state(self):\n",
        "        \"\"\"Returns the current protein folding state as a 2D binary grid.\"\"\"\n",
        "        state = np.zeros((self.size, self.size))  # Create an empty grid\n",
        "        for pos in self.path:\n",
        "            state[pos] = 1  # Mark positions visited by the protein\n",
        "        return state\n",
        "\n",
        "    def render(self):\n",
        "        \"\"\"Displays the current protein folding path in the grid.\"\"\"\n",
        "        plt.imshow(self._get_state(), cmap=\"Blues\")  # Display the grid\n",
        "        plt.show()\n",
        "\n",
        "# ========================\n",
        "# 2. Reinforcement Learning Agent (DQN)\n",
        "# ========================\n",
        "class DQNAgent:\n",
        "    \"\"\"A Deep Q-Network (DQN) agent to learn protein folding strategies.\"\"\"\n",
        "\n",
        "    def __init__(self, state_shape, action_size):\n",
        "        self.state_shape = state_shape  # Shape of the environment state (grid)\n",
        "        self.action_size = action_size  # Number of possible actions (4)\n",
        "\n",
        "        # Memory buffer for experience replay (stores past experiences)\n",
        "        self.memory = deque(maxlen=2000)\n",
        "\n",
        "        # Q-learning parameters\n",
        "        self.gamma = 0.95  # Discount factor for future rewards\n",
        "        self.epsilon = 1.0  # Initial exploration probability (random actions)\n",
        "        self.epsilon_min = 0.01  # Minimum exploration probability\n",
        "        self.epsilon_decay = 0.995  # Decay rate for exploration probability\n",
        "        self.learning_rate = 0.001  # Learning rate for the neural network\n",
        "\n",
        "        # Build the deep learning model\n",
        "        self.model = self._build_model()\n",
        "\n",
        "    def _build_model(self):\n",
        "        \"\"\"Builds the neural network for Q-learning.\"\"\"\n",
        "        model = Sequential([\n",
        "            Input(shape=self.state_shape),  # Define input layer with the correct shape\n",
        "            Flatten(),  # Flatten 2D grid into a 1D vector\n",
        "            Dense(24, activation=\"relu\"),  # First hidden layer\n",
        "            Dense(24, activation=\"relu\"),  # Second hidden layer\n",
        "            Dense(self.action_size, activation=\"linear\")  # Output layer for Q-values\n",
        "        ])\n",
        "        # Compile the model with Mean Squared Error loss and Adam optimizer\n",
        "        model.compile(loss=\"mse\", optimizer=tf.keras.optimizers.Adam(learning_rate=self.learning_rate))\n",
        "        return model\n",
        "\n",
        "    def act(self, state):\n",
        "        \"\"\"Chooses an action using an epsilon-greedy strategy.\"\"\"\n",
        "        if np.random.rand() <= self.epsilon:\n",
        "            return random.randrange(self.action_size)  # Explore: Random action\n",
        "        q_values = self.model.predict(state.reshape(1, *self.state_shape), verbose=0)\n",
        "        return np.argmax(q_values[0])  # Exploit: Choose action with highest Q-value\n",
        "\n",
        "    def remember(self, state, action, reward, next_state, done):\n",
        "        \"\"\"Stores experience in memory for training.\"\"\"\n",
        "        self.memory.append((state, action, reward, next_state, done))\n",
        "\n",
        "    def replay(self, batch_size=32):\n",
        "        \"\"\"Trains the model using experience replay.\"\"\"\n",
        "        minibatch = random.sample(self.memory, min(len(self.memory), batch_size))\n",
        "        for state, action, reward, next_state, done in minibatch:\n",
        "            target = reward if done else reward + self.gamma * np.max(self.model.predict(next_state.reshape(1, *self.state_shape), verbose=0)[0])\n",
        "            target_f = self.model.predict(state.reshape(1, *self.state_shape), verbose=0)\n",
        "            target_f[0][action] = target  # Update Q-value\n",
        "            self.model.fit(state.reshape(1, *self.state_shape), target_f, epochs=1, verbose=0)\n",
        "\n",
        "        if self.epsilon > self.epsilon_min:\n",
        "            self.epsilon *= self.epsilon_decay  # Reduce exploration probability over time\n",
        "\n",
        "# ========================\n",
        "# 3. Training the Agent\n",
        "# ========================\n",
        "env = ProteinFoldingEnv(size=5)  # Initialize environment\n",
        "agent = DQNAgent((env.size, env.size), env.action_space.n)  # Initialize agent\n",
        "episodes = 500  # Number of training episodes\n",
        "\n",
        "for e in range(episodes):\n",
        "    state = env.reset()\n",
        "    total_reward = 0\n",
        "    for _ in range(env.size * 2):\n",
        "        action = agent.act(state)\n",
        "        next_state, reward, done, _ = env.step(action)\n",
        "        agent.remember(state, action, reward, next_state, done)\n",
        "        state = next_state\n",
        "        total_reward += reward\n",
        "        if done:\n",
        "            break\n",
        "    agent.replay()\n",
        "    if e % 50 == 0:\n",
        "        print(f\"Episode {e}, Reward: {total_reward}, Epsilon: {agent.epsilon:.2f}\")\n",
        "\n",
        "print(\"Training complete!\")\n",
        "\n",
        "# ========================\n",
        "# 4. Visualizing the Learned Folding Path\n",
        "# ========================\n",
        "env.reset()\n",
        "for _ in range(env.size * 2):\n",
        "    action = agent.act(state)\n",
        "    state, _, done, _ = env.step(action)\n",
        "    env.render()\n",
        "    if done:\n",
        "        break\n"
      ],
      "metadata": {
        "id": "D1gSFIsJty-Y",
        "outputId": "440ad7b5-802e-4ee1-92d6-29fb7b6af286",
        "colab": {
          "base_uri": "https://localhost:8080/"
        }
      },
      "execution_count": null,
      "outputs": [
        {
          "output_type": "stream",
          "name": "stdout",
          "text": [
            "Episode 0, Reward: -10.0, Epsilon: 0.99\n"
          ]
        }
      ]
    },
    {
      "cell_type": "code",
      "source": [],
      "metadata": {
        "id": "fQxSITKWpD7U"
      },
      "execution_count": null,
      "outputs": []
    },
    {
      "cell_type": "code",
      "source": [],
      "metadata": {
        "id": "9p2XEIrrpD-l"
      },
      "execution_count": null,
      "outputs": []
    },
    {
      "cell_type": "code",
      "source": [],
      "metadata": {
        "id": "7_3PSdHRn7VD"
      },
      "execution_count": null,
      "outputs": []
    }
  ]
}