{
  "nbformat": 4,
  "nbformat_minor": 0,
  "metadata": {
    "colab": {
      "provenance": [],
      "authorship_tag": "ABX9TyNMZbUcBe/2t4y53jX/Xsho",
      "include_colab_link": true
    },
    "kernelspec": {
      "name": "python3",
      "display_name": "Python 3"
    },
    "language_info": {
      "name": "python"
    }
  },
  "cells": [
    {
      "cell_type": "markdown",
      "metadata": {
        "id": "view-in-github",
        "colab_type": "text"
      },
      "source": [
        "<a href=\"https://colab.research.google.com/github/hongqin/AI4Health/blob/main/RL-protein-folding.ipynb\" target=\"_parent\"><img src=\"https://colab.research.google.com/assets/colab-badge.svg\" alt=\"Open In Colab\"/></a>"
      ]
    },
    {
      "cell_type": "code",
      "source": [],
      "metadata": {
        "id": "JNUDYAOYpCll"
      },
      "execution_count": null,
      "outputs": []
    },
    {
      "cell_type": "markdown",
      "source": [
        "https://chatgpt.com/share/67a171cb-cc18-800c-a95f-a6077b3a9ebe"
      ],
      "metadata": {
        "id": "5WHBHZqWpKPo"
      }
    },
    {
      "cell_type": "code",
      "source": [
        "import numpy as np\n",
        "import random\n",
        "import gym\n",
        "from gym import spaces\n",
        "import tensorflow as tf\n",
        "from tensorflow.keras import Sequential, Input\n",
        "from tensorflow.keras.layers import Dense, Flatten\n",
        "from collections import deque\n",
        "import matplotlib.pyplot as plt\n",
        "\n",
        "# Custom Protein Folding Environment\n",
        "class ProteinFoldingEnv(gym.Env):\n",
        "    def __init__(self, size=5):\n",
        "        super(ProteinFoldingEnv, self).__init__()\n",
        "        self.size = size\n",
        "        self.grid = np.zeros((size, size))\n",
        "        self.position = (size//2, size//2)\n",
        "        self.path = [self.position]\n",
        "        self.action_space = spaces.Discrete(4)\n",
        "        self.observation_space = spaces.Box(low=0, high=1, shape=(size, size), dtype=np.float32)\n",
        "\n",
        "    def reset(self):\n",
        "        self.grid = np.zeros((self.size, self.size))\n",
        "        self.position = (self.size//2, self.size//2)\n",
        "        self.path = [self.position]\n",
        "        return self._get_state()\n",
        "\n",
        "    def step(self, action):\n",
        "        x, y = self.position\n",
        "        if action == 0:  # Up\n",
        "            new_pos = (x-1, y)\n",
        "        elif action == 1:  # Down\n",
        "            new_pos = (x+1, y)\n",
        "        elif action == 2:  # Left\n",
        "            new_pos = (x, y-1)\n",
        "        elif action == 3:  # Right\n",
        "            new_pos = (x, y+1)\n",
        "\n",
        "        if 0 <= new_pos[0] < self.size and 0 <= new_pos[1] < self.size:\n",
        "            self.position = new_pos\n",
        "            self.path.append(new_pos)\n",
        "            reward = -self._compute_energy()\n",
        "        else:\n",
        "            reward = -10\n",
        "\n",
        "        done = len(self.path) >= self.size\n",
        "        return self._get_state(), reward, done, {}\n",
        "\n",
        "    def _compute_energy(self):\n",
        "        return sum(np.linalg.norm(np.array(self.path[i]) - np.array(self.path[i-1])) for i in range(1, len(self.path)))\n",
        "\n",
        "    def _get_state(self):\n",
        "        state = np.zeros((self.size, self.size))\n",
        "        for pos in self.path:\n",
        "            state[pos] = 1\n",
        "        return state\n",
        "\n",
        "    def render(self):\n",
        "        plt.imshow(self._get_state(), cmap=\"Blues\")\n",
        "        plt.show()\n",
        "\n",
        "# Deep Q-Network (DQN) Agent\n",
        "class DQNAgent:\n",
        "    def __init__(self, state_shape, action_size):\n",
        "        self.state_shape = state_shape\n",
        "        self.action_size = action_size\n",
        "        self.memory = deque(maxlen=2000)\n",
        "        self.gamma = 0.95\n",
        "        self.epsilon = 1.0\n",
        "        self.epsilon_min = 0.01\n",
        "        self.epsilon_decay = 0.995\n",
        "        self.learning_rate = 0.001\n",
        "        self.model = self._build_model()\n",
        "\n",
        "    def _build_model(self):\n",
        "        model = Sequential([\n",
        "            Input(shape=self.state_shape),  # Corrected input shape\n",
        "            Flatten(),\n",
        "            Dense(24, activation=\"relu\"),\n",
        "            Dense(24, activation=\"relu\"),\n",
        "            Dense(self.action_size, activation=\"linear\")\n",
        "        ])\n",
        "        model.compile(loss=\"mse\", optimizer=tf.keras.optimizers.Adam(learning_rate=self.learning_rate))  # Corrected `learning_rate`\n",
        "        return model\n",
        "\n",
        "    def act(self, state):\n",
        "        if np.random.rand() <= self.epsilon:\n",
        "            return random.randrange(self.action_size)\n",
        "        q_values = self.model.predict(state.reshape(1, *self.state_shape), verbose=0)\n",
        "        return np.argmax(q_values[0])\n",
        "\n",
        "    def remember(self, state, action, reward, next_state, done):\n",
        "        self.memory.append((state, action, reward, next_state, done))\n",
        "\n",
        "    def replay(self, batch_size=32):\n",
        "        minibatch = random.sample(self.memory, min(len(self.memory), batch_size))\n",
        "        for state, action, reward, next_state, done in minibatch:\n",
        "            target = reward if done else reward + self.gamma * np.max(self.model.predict(next_state.reshape(1, *self.state_shape), verbose=0)[0])\n",
        "            target_f = self.model.predict(state.reshape(1, *self.state_shape), verbose=0)\n",
        "            target_f[0][action] = target\n",
        "            self.model.fit(state.reshape(1, *self.state_shape), target_f, epochs=1, verbose=0)\n",
        "\n",
        "        if self.epsilon > self.epsilon_min:\n",
        "            self.epsilon *= self.epsilon_decay\n",
        "\n",
        "# Training\n",
        "env = ProteinFoldingEnv(size=5)\n",
        "state_shape = (env.size, env.size)\n",
        "action_size = env.action_space.n\n",
        "agent = DQNAgent(state_shape, action_size)\n",
        "episodes = 500\n",
        "\n",
        "for e in range(episodes):\n",
        "    state = env.reset()\n",
        "    total_reward = 0\n",
        "    for _ in range(env.size * 2):\n",
        "        action = agent.act(state)\n",
        "        next_state, reward, done, _ = env.step(action)\n",
        "        agent.remember(state, action, reward, next_state, done)\n",
        "        state = next_state\n",
        "        total_reward += reward\n",
        "        if done:\n",
        "            break\n",
        "    agent.replay()\n",
        "    if e % 50 == 0:\n",
        "        print(f\"Episode {e}, Reward: {total_reward}, Epsilon: {agent.epsilon:.2f}\")\n",
        "\n",
        "print(\"Training complete!\")\n",
        "\n",
        "# Visualization\n",
        "env.reset()\n",
        "for _ in range(env.size * 2):\n",
        "    action = agent.act(state)\n",
        "    state, _, done, _ = env.step(action)\n",
        "    env.render()\n",
        "    if done:\n",
        "        break\n"
      ],
      "metadata": {
        "colab": {
          "base_uri": "https://localhost:8080/"
        },
        "id": "2cO6e2zppD4g",
        "outputId": "854cfa9f-08fb-40e8-aabd-9b8359b8f753"
      },
      "execution_count": null,
      "outputs": [
        {
          "output_type": "stream",
          "name": "stdout",
          "text": [
            "Episode 0, Reward: -10.0, Epsilon: 0.99\n",
            "Episode 50, Reward: -10.0, Epsilon: 0.77\n"
          ]
        }
      ]
    },
    {
      "cell_type": "code",
      "source": [],
      "metadata": {
        "id": "fQxSITKWpD7U"
      },
      "execution_count": null,
      "outputs": []
    },
    {
      "cell_type": "code",
      "source": [],
      "metadata": {
        "id": "9p2XEIrrpD-l"
      },
      "execution_count": null,
      "outputs": []
    },
    {
      "cell_type": "code",
      "source": [],
      "metadata": {
        "id": "7_3PSdHRn7VD"
      },
      "execution_count": null,
      "outputs": []
    }
  ]
}