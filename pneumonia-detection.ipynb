{
 "cells": [
  {
   "cell_type": "code",
   "execution_count": 1,
   "metadata": {},
   "outputs": [],
   "source": [
    "import pandas as pd\n",
    "import numpy as np\n",
    "import PIL\n",
    "import tensorflow as tf\n",
    "import matplotlib.pyplot as plt\n",
    "from tensorflow.keras.preprocessing.image import ImageDataGenerator"
   ]
  },
  {
   "cell_type": "code",
   "execution_count": 2,
   "metadata": {},
   "outputs": [
    {
     "ename": "FileNotFoundError",
     "evalue": "[Errno 2] No such file or directory: '/kaggle/input/chest-xray-pneumonia/chest_xray/test/NORMAL/IM-0001-0001.jpeg'",
     "output_type": "error",
     "traceback": [
      "\u001b[0;31m---------------------------------------------------------------------------\u001b[0m",
      "\u001b[0;31mFileNotFoundError\u001b[0m                         Traceback (most recent call last)",
      "Cell \u001b[0;32mIn[2], line 1\u001b[0m\n\u001b[0;32m----> 1\u001b[0m image \u001b[38;5;241m=\u001b[39m \u001b[43mPIL\u001b[49m\u001b[38;5;241;43m.\u001b[39;49m\u001b[43mImage\u001b[49m\u001b[38;5;241;43m.\u001b[39;49m\u001b[43mopen\u001b[49m\u001b[43m(\u001b[49m\u001b[38;5;124;43m'\u001b[39;49m\u001b[38;5;124;43m/kaggle/input/chest-xray-pneumonia/chest_xray/test/NORMAL/IM-0001-0001.jpeg\u001b[39;49m\u001b[38;5;124;43m'\u001b[39;49m\u001b[43m)\u001b[49m\n\u001b[1;32m      3\u001b[0m image\n",
      "File \u001b[0;32m/Library/Frameworks/Python.framework/Versions/3.10/lib/python3.10/site-packages/PIL/Image.py:3465\u001b[0m, in \u001b[0;36mopen\u001b[0;34m(fp, mode, formats)\u001b[0m\n\u001b[1;32m   3462\u001b[0m     filename \u001b[38;5;241m=\u001b[39m os\u001b[38;5;241m.\u001b[39mfspath(fp)\n\u001b[1;32m   3464\u001b[0m \u001b[38;5;28;01mif\u001b[39;00m filename:\n\u001b[0;32m-> 3465\u001b[0m     fp \u001b[38;5;241m=\u001b[39m \u001b[43mbuiltins\u001b[49m\u001b[38;5;241;43m.\u001b[39;49m\u001b[43mopen\u001b[49m\u001b[43m(\u001b[49m\u001b[43mfilename\u001b[49m\u001b[43m,\u001b[49m\u001b[43m \u001b[49m\u001b[38;5;124;43m\"\u001b[39;49m\u001b[38;5;124;43mrb\u001b[39;49m\u001b[38;5;124;43m\"\u001b[39;49m\u001b[43m)\u001b[49m\n\u001b[1;32m   3466\u001b[0m     exclusive_fp \u001b[38;5;241m=\u001b[39m \u001b[38;5;28;01mTrue\u001b[39;00m\n\u001b[1;32m   3467\u001b[0m \u001b[38;5;28;01melse\u001b[39;00m:\n",
      "\u001b[0;31mFileNotFoundError\u001b[0m: [Errno 2] No such file or directory: '/kaggle/input/chest-xray-pneumonia/chest_xray/test/NORMAL/IM-0001-0001.jpeg'"
     ]
    }
   ],
   "source": [
    "image = PIL.Image.open('/kaggle/input/chest-xray-pneumonia/chest_xray/test/NORMAL/IM-0001-0001.jpeg')\n",
    "\n",
    "image"
   ]
  },
  {
   "cell_type": "code",
   "execution_count": null,
   "metadata": {
    "execution": {
     "iopub.execute_input": "2024-05-12T10:01:18.229064Z",
     "iopub.status.busy": "2024-05-12T10:01:18.228721Z",
     "iopub.status.idle": "2024-05-12T10:01:18.4578Z",
     "shell.execute_reply": "2024-05-12T10:01:18.456824Z",
     "shell.execute_reply.started": "2024-05-12T10:01:18.229035Z"
    }
   },
   "outputs": [],
   "source": [
    "image = PIL.Image.open('/kaggle/input/chest-xray-pneumonia/chest_xray/test/PNEUMONIA/person100_bacteria_475.jpeg')\n",
    "\n",
    "image"
   ]
  },
  {
   "cell_type": "code",
   "execution_count": null,
   "metadata": {
    "execution": {
     "iopub.execute_input": "2024-05-12T10:01:18.461278Z",
     "iopub.status.busy": "2024-05-12T10:01:18.460944Z",
     "iopub.status.idle": "2024-05-12T10:01:18.465829Z",
     "shell.execute_reply": "2024-05-12T10:01:18.464745Z",
     "shell.execute_reply.started": "2024-05-12T10:01:18.461253Z"
    }
   },
   "outputs": [],
   "source": [
    "train = '/kaggle/input/chest-xray-pneumonia/chest_xray/train'\n",
    "test = '/kaggle/input/chest-xray-pneumonia/chest_xray/test'\n",
    "validation = '/kaggle/input/chest-xray-pneumonia/chest_xray/val'"
   ]
  },
  {
   "cell_type": "code",
   "execution_count": null,
   "metadata": {
    "execution": {
     "iopub.execute_input": "2024-05-12T10:01:18.467832Z",
     "iopub.status.busy": "2024-05-12T10:01:18.466932Z",
     "iopub.status.idle": "2024-05-12T10:01:21.148498Z",
     "shell.execute_reply": "2024-05-12T10:01:21.147481Z",
     "shell.execute_reply.started": "2024-05-12T10:01:18.467803Z"
    }
   },
   "outputs": [],
   "source": [
    "training_generator = ImageDataGenerator(rescale=1/255)\n",
    "\n",
    "data_train = training_generator.flow_from_directory(train, target_size=(256,256))"
   ]
  },
  {
   "cell_type": "code",
   "execution_count": null,
   "metadata": {
    "execution": {
     "iopub.execute_input": "2024-05-12T10:01:21.15003Z",
     "iopub.status.busy": "2024-05-12T10:01:21.149709Z",
     "iopub.status.idle": "2024-05-12T10:01:21.171155Z",
     "shell.execute_reply": "2024-05-12T10:01:21.170281Z",
     "shell.execute_reply.started": "2024-05-12T10:01:21.150002Z"
    }
   },
   "outputs": [],
   "source": [
    "validation_generator = ImageDataGenerator(rescale=1/255)\n",
    "\n",
    "data_valid = validation_generator.flow_from_directory(validation, target_size=(256,256))"
   ]
  },
  {
   "cell_type": "code",
   "execution_count": null,
   "metadata": {
    "execution": {
     "iopub.execute_input": "2024-05-12T10:01:21.172491Z",
     "iopub.status.busy": "2024-05-12T10:01:21.172207Z",
     "iopub.status.idle": "2024-05-12T10:01:21.232207Z",
     "shell.execute_reply": "2024-05-12T10:01:21.231303Z",
     "shell.execute_reply.started": "2024-05-12T10:01:21.172466Z"
    }
   },
   "outputs": [],
   "source": [
    "test_generator = ImageDataGenerator(rescale=1/255)\n",
    "\n",
    "data_test = test_generator.flow_from_directory(test, target_size=(256,256))"
   ]
  },
  {
   "cell_type": "markdown",
   "metadata": {},
   "source": [
    "## CNN"
   ]
  },
  {
   "cell_type": "code",
   "execution_count": null,
   "metadata": {
    "execution": {
     "iopub.execute_input": "2024-05-12T10:01:21.233653Z",
     "iopub.status.busy": "2024-05-12T10:01:21.233297Z",
     "iopub.status.idle": "2024-05-12T10:01:21.238454Z",
     "shell.execute_reply": "2024-05-12T10:01:21.237422Z",
     "shell.execute_reply.started": "2024-05-12T10:01:21.233603Z"
    }
   },
   "outputs": [],
   "source": [
    "from tensorflow.keras import regularizers"
   ]
  },
  {
   "cell_type": "code",
   "execution_count": null,
   "metadata": {
    "execution": {
     "iopub.execute_input": "2024-05-12T10:01:21.240009Z",
     "iopub.status.busy": "2024-05-12T10:01:21.239705Z",
     "iopub.status.idle": "2024-05-12T10:01:22.155264Z",
     "shell.execute_reply": "2024-05-12T10:01:22.154378Z",
     "shell.execute_reply.started": "2024-05-12T10:01:21.239983Z"
    }
   },
   "outputs": [],
   "source": [
    "model = tf.keras.Sequential([\n",
    "    tf.keras.layers.Conv2D(32,(3,3),activation='relu',kernel_regularizer=regularizers.l2(0.001),input_shape=(256,256,3)),\n",
    "    tf.keras.layers.MaxPooling2D(2,2),\n",
    "    tf.keras.layers.Conv2D(64,(3,3),activation='relu',kernel_regularizer=regularizers.l2(0.001)),\n",
    "    #tf.keras.layers.MaxPooling2D(2,2),\n",
    "    #tf.keras.layers.Dropout(0.25),\n",
    "    tf.keras.layers.Conv2D(128,(3,3),activation='relu'),\n",
    "    #tf.keras.layers.Conv2D(128,(3,3),activation='relu'),\n",
    "    #tf.keras.layers.MaxPooling2D(2,2),\n",
    "    #tf.keras.layers.Dropout(0.25),\n",
    "    tf.keras.layers.Conv2D(256,(3,3),activation='relu'),\n",
    "    #tf.keras.layers.Conv2D(256,(3,3),activation='relu'),\n",
    "    #tf.keras.layers.MaxPooling2D(2,2),\n",
    "    #tf.keras.layers.Dropout(0.25),\n",
    "    tf.keras.layers.Conv2D(128,(3,3),activation='relu'),\n",
    "    tf.keras.layers.Conv2D(32,(3,3),activation='relu'),\n",
    "    tf.keras.layers.Flatten(),\n",
    "    tf.keras.layers.Dense(64,activation='relu'),\n",
    "    tf.keras.layers.Dense(2,activation='sigmoid')\n",
    "])"
   ]
  },
  {
   "cell_type": "code",
   "execution_count": null,
   "metadata": {
    "execution": {
     "iopub.execute_input": "2024-05-12T10:01:22.159112Z",
     "iopub.status.busy": "2024-05-12T10:01:22.158823Z",
     "iopub.status.idle": "2024-05-12T10:01:22.173991Z",
     "shell.execute_reply": "2024-05-12T10:01:22.17307Z",
     "shell.execute_reply.started": "2024-05-12T10:01:22.159086Z"
    }
   },
   "outputs": [],
   "source": [
    "model.compile(optimizer=tf.keras.optimizers.Adam(learning_rate=0.001),loss='binary_crossentropy',metrics=['acc','f1_score'])"
   ]
  },
  {
   "cell_type": "code",
   "execution_count": null,
   "metadata": {
    "execution": {
     "iopub.execute_input": "2024-05-12T10:01:22.175115Z",
     "iopub.status.busy": "2024-05-12T10:01:22.174884Z",
     "iopub.status.idle": "2024-05-12T10:01:22.203653Z",
     "shell.execute_reply": "2024-05-12T10:01:22.202812Z",
     "shell.execute_reply.started": "2024-05-12T10:01:22.175095Z"
    }
   },
   "outputs": [],
   "source": [
    "model.summary()"
   ]
  },
  {
   "cell_type": "code",
   "execution_count": null,
   "metadata": {
    "execution": {
     "iopub.execute_input": "2024-05-12T10:01:22.20493Z",
     "iopub.status.busy": "2024-05-12T10:01:22.204678Z",
     "iopub.status.idle": "2024-05-12T10:01:22.209665Z",
     "shell.execute_reply": "2024-05-12T10:01:22.208616Z",
     "shell.execute_reply.started": "2024-05-12T10:01:22.204908Z"
    }
   },
   "outputs": [],
   "source": [
    "callbacks = tf.keras.callbacks.EarlyStopping(monitor='val_loss',patience=5,verbose=1)\n",
    "#checkpoint = tf.keras.callbacks.ModelCheckpoint('best_model.keras', monitor='val_accuracy', save_best_only=True, verbose=1)"
   ]
  },
  {
   "cell_type": "code",
   "execution_count": null,
   "metadata": {
    "execution": {
     "iopub.execute_input": "2024-05-12T10:01:22.211338Z",
     "iopub.status.busy": "2024-05-12T10:01:22.211049Z",
     "iopub.status.idle": "2024-05-12T10:18:07.877047Z"
    }
   },
   "outputs": [],
   "source": [
    "# history = model.fit(data_train,epochs=100,validation_data=data_valid)\n",
    "history = model.fit(\n",
    "    data_train,\n",
    "#     steps_per_epoch=len(data_train),\n",
    "    epochs=20,\n",
    "    validation_data=data_valid,\n",
    "#     validation_steps=len(data_valid)\n",
    "#     callbacks=[checkpoint]\n",
    "    callbacks=[callbacks]\n",
    ")"
   ]
  },
  {
   "cell_type": "code",
   "execution_count": null,
   "metadata": {
    "execution": {
     "iopub.execute_input": "2024-05-12T10:18:07.878738Z",
     "iopub.status.busy": "2024-05-12T10:18:07.878396Z",
     "iopub.status.idle": "2024-05-12T10:18:08.249035Z"
    }
   },
   "outputs": [],
   "source": [
    "plt.plot(history.history['acc'])\n",
    "plt.plot(history.history['val_acc'])\n",
    "plt.title('Model Accuracy'),\n",
    "plt.ylabel('accuracy')\n",
    "plt.xlabel('epoch')\n",
    "plt.legend(['train', 'val'], loc='upper left')\n",
    "plt.show()"
   ]
  },
  {
   "cell_type": "code",
   "execution_count": null,
   "metadata": {
    "execution": {
     "iopub.execute_input": "2024-05-12T10:18:08.250806Z",
     "iopub.status.busy": "2024-05-12T10:18:08.250392Z",
     "iopub.status.idle": "2024-05-12T10:18:08.578421Z"
    }
   },
   "outputs": [],
   "source": [
    "plt.plot(history.history['loss'])\n",
    "plt.plot(history.history['val_loss'])\n",
    "plt.title('Model Loss'),\n",
    "plt.ylabel('loss')\n",
    "plt.xlabel('epoch')\n",
    "plt.legend(['train', 'val'], loc='upper left')\n",
    "plt.show()"
   ]
  },
  {
   "cell_type": "code",
   "execution_count": null,
   "metadata": {
    "execution": {
     "iopub.execute_input": "2024-05-12T10:18:08.579826Z",
     "iopub.status.busy": "2024-05-12T10:18:08.579522Z",
     "iopub.status.idle": "2024-05-12T10:18:08.908357Z"
    }
   },
   "outputs": [],
   "source": [
    "plt.plot(history.history['f1_score'])\n",
    "plt.plot(history.history['val_f1_score'])\n",
    "plt.title(\"Model F1 Score\")\n",
    "plt.ylabel(\"F1 Score\")\n",
    "plt.xlabel(\"Epoch\")\n",
    "plt.legend(['train','val'],loc=\"upper left\")\n",
    "plt.show()"
   ]
  },
  {
   "cell_type": "code",
   "execution_count": null,
   "metadata": {
    "execution": {
     "iopub.execute_input": "2024-05-12T10:18:08.909761Z",
     "iopub.status.busy": "2024-05-12T10:18:08.909431Z",
     "iopub.status.idle": "2024-05-12T10:18:17.91203Z",
     "shell.execute_reply": "2024-05-12T10:18:17.910979Z",
     "shell.execute_reply.started": "2024-05-12T10:18:08.909733Z"
    }
   },
   "outputs": [],
   "source": [
    "results = model.evaluate(data_test,verbose=0)\n",
    "print(results)"
   ]
  },
  {
   "cell_type": "code",
   "execution_count": null,
   "metadata": {
    "execution": {
     "iopub.execute_input": "2024-05-12T10:18:17.913579Z",
     "iopub.status.busy": "2024-05-12T10:18:17.913274Z",
     "iopub.status.idle": "2024-05-12T10:18:17.919756Z",
     "shell.execute_reply": "2024-05-12T10:18:17.918621Z",
     "shell.execute_reply.started": "2024-05-12T10:18:17.913552Z"
    }
   },
   "outputs": [],
   "source": [
    "print(\"    Test Loss : {:.5f}\".format(results[0]))\n",
    "print(\"Test Accuracy : {:.2f}\".format(results[1]*100))"
   ]
  },
  {
   "cell_type": "code",
   "execution_count": null,
   "metadata": {
    "execution": {
     "iopub.execute_input": "2024-05-12T10:18:17.921376Z",
     "iopub.status.busy": "2024-05-12T10:18:17.921047Z",
     "iopub.status.idle": "2024-05-12T10:18:24.322261Z",
     "shell.execute_reply": "2024-05-12T10:18:24.32127Z",
     "shell.execute_reply.started": "2024-05-12T10:18:17.921325Z"
    }
   },
   "outputs": [],
   "source": [
    "# pred = model.predict(data_test)\n",
    "# pred = np.argmax(pred,axis=1)\n",
    "\n",
    "# labels = (data_test.class_indices)\n",
    "# labels = dict((v,k) for k,v in labels.items())\n",
    "# pred - [labels[k] for k in pred]\n",
    "\n",
    "pred = model.predict(data_test)\n",
    "pred = np.argmax(pred, axis=1)\n",
    "\n",
    "labels = data_test.class_indices\n",
    "labels = {v: k for k, v in labels.items()}\n",
    "\n",
    "# Corrected line: Assign the modified values to 'pred'\n",
    "pred = [labels[k] for k in pred]"
   ]
  },
  {
   "cell_type": "code",
   "execution_count": null,
   "metadata": {
    "execution": {
     "iopub.execute_input": "2024-05-12T10:18:24.324324Z",
     "iopub.status.busy": "2024-05-12T10:18:24.323827Z",
     "iopub.status.idle": "2024-05-12T10:18:24.329877Z",
     "shell.execute_reply": "2024-05-12T10:18:24.329003Z",
     "shell.execute_reply.started": "2024-05-12T10:18:24.324285Z"
    }
   },
   "outputs": [],
   "source": [
    "print(pred)"
   ]
  },
  {
   "cell_type": "code",
   "execution_count": null,
   "metadata": {
    "execution": {
     "iopub.execute_input": "2024-05-12T10:18:24.331512Z",
     "iopub.status.busy": "2024-05-12T10:18:24.331157Z",
     "iopub.status.idle": "2024-05-12T10:18:24.810582Z",
     "shell.execute_reply": "2024-05-12T10:18:24.809407Z",
     "shell.execute_reply.started": "2024-05-12T10:18:24.331481Z"
    }
   },
   "outputs": [],
   "source": [
    "from sklearn.metrics import classification_report\n",
    "\n",
    "y_test = list(data_test.labels)\n",
    "# print(y_test)\n",
    "# Example mapping from class names to numeric labels\n",
    "class_to_label = {0 :\"NORMAL\", 1 :\"PNEUMONIA\"}\n",
    "\n",
    "# Convert true labels (strings) to numeric labels\n",
    "numeric_true_labels = [class_to_label.get(label, -1) for label in y_test]\n",
    "\n",
    "# Now use numeric_true_labels in the classification report\n",
    "print(classification_report(numeric_true_labels, pred))\n",
    "\n",
    "\n"
   ]
  },
  {
   "cell_type": "code",
   "execution_count": null,
   "metadata": {
    "execution": {
     "iopub.execute_input": "2024-05-12T10:18:24.812269Z",
     "iopub.status.busy": "2024-05-12T10:18:24.811919Z",
     "iopub.status.idle": "2024-05-12T10:18:25.9557Z",
     "shell.execute_reply": "2024-05-12T10:18:25.954646Z",
     "shell.execute_reply.started": "2024-05-12T10:18:24.812237Z"
    }
   },
   "outputs": [],
   "source": [
    "batch_images, batch_labels = next(data_test)\n",
    "\n",
    "fig,axes = plt.subplots(nrows=5,ncols=2,figsize=(12,8),subplot_kw={'xticks':[],'yticks':[]})\n",
    "\n",
    "for i, ax in enumerate(axes.flat):\n",
    "    ax.imshow(batch_images[i])\n",
    "    ax.set_title(f\"True:{data_test.classes[i]}\\n Predicted:{pred[i]}\")\n",
    "\n",
    "plt.tight_layout()\n",
    "plt.show()\n",
    "                 "
   ]
  },
  {
   "cell_type": "code",
   "execution_count": null,
   "metadata": {
    "execution": {
     "iopub.execute_input": "2024-05-12T10:18:25.957857Z",
     "iopub.status.busy": "2024-05-12T10:18:25.95715Z",
     "iopub.status.idle": "2024-05-12T10:18:26.725042Z",
     "shell.execute_reply": "2024-05-12T10:18:26.724082Z",
     "shell.execute_reply.started": "2024-05-12T10:18:25.957819Z"
    }
   },
   "outputs": [],
   "source": [
    "my_model = model.save('pneumonia_detection.h5')"
   ]
  },
  {
   "cell_type": "code",
   "execution_count": null,
   "metadata": {},
   "outputs": [],
   "source": []
  }
 ],
 "metadata": {
  "kaggle": {
   "accelerator": "nvidiaTeslaT4",
   "dataSources": [
    {
     "datasetId": 17810,
     "sourceId": 23812,
     "sourceType": "datasetVersion"
    }
   ],
   "dockerImageVersionId": 30699,
   "isGpuEnabled": true,
   "isInternetEnabled": true,
   "language": "python",
   "sourceType": "notebook"
  },
  "kernelspec": {
   "display_name": "Python 3 (ipykernel)",
   "language": "python",
   "name": "python3"
  },
  "language_info": {
   "codemirror_mode": {
    "name": "ipython",
    "version": 3
   },
   "file_extension": ".py",
   "mimetype": "text/x-python",
   "name": "python",
   "nbconvert_exporter": "python",
   "pygments_lexer": "ipython3",
   "version": "3.10.0"
  }
 },
 "nbformat": 4,
 "nbformat_minor": 4
}
